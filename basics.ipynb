{
 "cells": [
  {
   "cell_type": "code",
   "execution_count": 2,
   "id": "bb2ece30",
   "metadata": {},
   "outputs": [
    {
     "name": "stderr",
     "output_type": "stream",
     "text": [
      "2025-07-07 13:35:33.286364: I tensorflow/core/platform/cpu_feature_guard.cc:210] This TensorFlow binary is optimized to use available CPU instructions in performance-critical operations.\n",
      "To enable the following instructions: AVX2 FMA, in other operations, rebuild TensorFlow with the appropriate compiler flags.\n"
     ]
    }
   ],
   "source": [
    "import tensorflow as tf"
   ]
  },
  {
   "cell_type": "code",
   "execution_count": 4,
   "id": "b5697955",
   "metadata": {},
   "outputs": [],
   "source": [
    "class MyDenseLayer(tf.keras.layers.Layer):\n",
    "    def __init__(self, input_dim, output_dim):\n",
    "        super(MyDenseLayer, self).__init__()\n",
    "\n",
    "        self.w = self.add_weight([input_dim, output_dim])\n",
    "        self.b = self.add_weight([1, output_dim])\n",
    "\n",
    "    def call(self, inputs):\n",
    "        z = tf.matmul(inputs, self.w) + self.b\n",
    "        return tf.math.sigmoid(z)"
   ]
  },
  {
   "cell_type": "code",
   "execution_count": 5,
   "id": "f4942eff",
   "metadata": {},
   "outputs": [
    {
     "name": "stdout",
     "output_type": "stream",
     "text": [
      "[[0.8867185 0.9546766]]\n"
     ]
    }
   ],
   "source": [
    "input_dim = 3\n",
    "output_dim = 2\n",
    "layer = MyDenseLayer(input_dim, output_dim)\n",
    "inputs = tf.constant([[1.0, 2.0, 3.0]])\n",
    "outputs = layer(inputs)\n",
    "print(outputs.numpy())"
   ]
  },
  {
   "cell_type": "code",
   "execution_count": 10,
   "id": "ef936660",
   "metadata": {},
   "outputs": [],
   "source": [
    "class SequentialModel(tf.keras.Model):\n",
    "    def __init__(self, layers):\n",
    "        super(SequentialModel, self).__init__()\n",
    "        self.model_layers = layers\n",
    "\n",
    "    def call(self, inputs):\n",
    "        x = inputs \n",
    "        for layer in self.model_layers:\n",
    "            x = layer(x)\n",
    "        return x"
   ]
  },
  {
   "cell_type": "code",
   "execution_count": 13,
   "id": "ef3ecb69",
   "metadata": {},
   "outputs": [
    {
     "name": "stdout",
     "output_type": "stream",
     "text": [
      "[[0.70461786 0.30614072 0.6488198 ]]\n"
     ]
    }
   ],
   "source": [
    "layers = []\n",
    "layers.append(MyDenseLayer(3, 4))\n",
    "layers.append(MyDenseLayer(4, 3))\n",
    "model = SequentialModel(layers)\n",
    "inputs = tf.constant([[1.0, 2.0, 3.0]])\n",
    "outputs = model(inputs)\n",
    "print(outputs.numpy())"
   ]
  },
  {
   "cell_type": "code",
   "execution_count": null,
   "id": "0ef43c81",
   "metadata": {},
   "outputs": [],
   "source": []
  }
 ],
 "metadata": {
  "kernelspec": {
   "display_name": "dl",
   "language": "python",
   "name": "python3"
  },
  "language_info": {
   "codemirror_mode": {
    "name": "ipython",
    "version": 3
   },
   "file_extension": ".py",
   "mimetype": "text/x-python",
   "name": "python",
   "nbconvert_exporter": "python",
   "pygments_lexer": "ipython3",
   "version": "3.9.17"
  }
 },
 "nbformat": 4,
 "nbformat_minor": 5
}
