{
 "cells": [
  {
   "cell_type": "code",
   "execution_count": 2,
   "id": "bb2ece30",
   "metadata": {},
   "outputs": [
    {
     "name": "stderr",
     "output_type": "stream",
     "text": [
      "2025-07-07 13:35:33.286364: I tensorflow/core/platform/cpu_feature_guard.cc:210] This TensorFlow binary is optimized to use available CPU instructions in performance-critical operations.\n",
      "To enable the following instructions: AVX2 FMA, in other operations, rebuild TensorFlow with the appropriate compiler flags.\n"
     ]
    }
   ],
   "source": [
    "import tensorflow as tf"
   ]
  },
  {
   "cell_type": "code",
   "execution_count": 28,
   "id": "b5697955",
   "metadata": {},
   "outputs": [],
   "source": [
    "class MyDenseLayer(tf.keras.layers.Layer):\n",
    "    def __init__(self, input_dim, output_dim):\n",
    "        super(MyDenseLayer, self).__init__()\n",
    "\n",
    "        self.w = self.add_weight([input_dim, output_dim])\n",
    "        self.b = self.add_weight([1, output_dim])\n",
    "\n",
    "    def call(self, inputs):\n",
    "        z = tf.matmul(inputs, self.w) + self.b\n",
    "        return tf.math.sigmoid(z)\n",
    "    \n",
    "    def set_weights(self, weights):\n",
    "        self.w.assign(weights[0: len(self.w - 1)])\n",
    "        self.b.assign(weights[-1])"
   ]
  },
  {
   "cell_type": "code",
   "execution_count": 5,
   "id": "f4942eff",
   "metadata": {},
   "outputs": [
    {
     "name": "stdout",
     "output_type": "stream",
     "text": [
      "[[0.8867185 0.9546766]]\n"
     ]
    }
   ],
   "source": [
    "input_dim = 3\n",
    "output_dim = 2\n",
    "layer = MyDenseLayer(input_dim, output_dim)\n",
    "inputs = tf.constant([[1.0, 2.0, 3.0]])\n",
    "outputs = layer(inputs)\n",
    "print(outputs.numpy())"
   ]
  },
  {
   "cell_type": "code",
   "execution_count": 27,
   "id": "ef936660",
   "metadata": {},
   "outputs": [],
   "source": [
    "class SequentialModel(tf.keras.Model):\n",
    "    def __init__(self, layers):\n",
    "        super(SequentialModel, self).__init__()\n",
    "        self.model_layers = layers\n",
    "\n",
    "    def layers(self):\n",
    "        return self.model_layers\n",
    "    \n",
    "    def call(self, inputs):\n",
    "        x = inputs \n",
    "        for layer in self.model_layers:\n",
    "            x = layer(x)\n",
    "        return x"
   ]
  },
  {
   "cell_type": "code",
   "execution_count": 13,
   "id": "ef3ecb69",
   "metadata": {},
   "outputs": [
    {
     "name": "stdout",
     "output_type": "stream",
     "text": [
      "[[0.70461786 0.30614072 0.6488198 ]]\n"
     ]
    }
   ],
   "source": [
    "layers = []\n",
    "layers.append(MyDenseLayer(3, 4))\n",
    "layers.append(MyDenseLayer(4, 3))\n",
    "model = SequentialModel(layers)\n",
    "inputs = tf.constant([[1.0, 2.0, 3.0]])\n",
    "outputs = model(inputs)\n",
    "print(outputs.numpy())"
   ]
  },
  {
   "cell_type": "code",
   "execution_count": 14,
   "id": "0ef43c81",
   "metadata": {},
   "outputs": [],
   "source": [
    "def backprop(inputs, outputs, model, loss_fn):\n",
    "    optimizer = tf.keras.optimizers.SGD(learning_rate=0.01)\n",
    "    while True:\n",
    "        predictions = model(inputs)\n",
    "        with tf.GradientTape() as tape:\n",
    "            loss = loss_fn(outputs, predictions)\n",
    "        gradients = tape.gradient(loss, model.trainable_variables)\n",
    "        optimizer.apply_gradients(zip(gradients, model.trainable_variables))\n",
    "        if tf.reduce_sum(tf.abs(gradients)) < 1e-6:\n",
    "            break\n",
    "    return gradients"
   ]
  },
  {
   "cell_type": "markdown",
   "id": "b8c850be",
   "metadata": {},
   "source": [
    "#### Two layer SGD"
   ]
  },
  {
   "cell_type": "code",
   "execution_count": 19,
   "id": "d830273a",
   "metadata": {},
   "outputs": [],
   "source": [
    "import numpy as np\n",
    "X = np.array([[0, 0], [0, 1], [1, 0], [1, 1]])\n",
    "y = np.array([[0], [1], [1], [0]])\n",
    "lr = 0.01\n",
    "weights_input_hidden = np.random.uniform(size=(2, 2))\n",
    "weights_hidden_output = np.random.uniform(size=(2, 1))"
   ]
  },
  {
   "cell_type": "code",
   "execution_count": 23,
   "id": "d2aef6a1",
   "metadata": {},
   "outputs": [],
   "source": [
    "# Sigmoid activation function\n",
    "def sigmoid(x):\n",
    "    return 1 / (1 + np.exp(-x))"
   ]
  },
  {
   "cell_type": "code",
   "execution_count": 24,
   "id": "954f049a",
   "metadata": {},
   "outputs": [],
   "source": [
    "def sigmoid_derivative(x):\n",
    "    return sigmoid(x) * (1 - sigmoid(x))"
   ]
  },
  {
   "cell_type": "code",
   "execution_count": null,
   "id": "ab144a8c",
   "metadata": {},
   "outputs": [],
   "source": [
    "def manual_SGD(final_output, weights_hidden_output):\n",
    "        error = y - final_output\n",
    "\n",
    "        d_predicted_output = error * sigmoid_derivative(final_output)\n",
    "        error_hidden_layer = d_predicted_output.dot(weights_hidden_output.T)\n",
    "        return X.T.dot(error_hidden_layer)"
   ]
  },
  {
   "cell_type": "code",
   "execution_count": 30,
   "id": "ad4c473f",
   "metadata": {},
   "outputs": [],
   "source": [
    "def binary_cross_entropy(y_true, y_pred):\n",
    "    epsilon = 1e-15\n",
    "    y_pred = np.clip(y_pred, epsilon, 1 - epsilon)\n",
    "    return -np.mean(y_true * np.log(y_pred) + (1 - y_true) * np.log(1 - y_pred))\n",
    "\n",
    "\n",
    "def binary_cross_entropy_derivative(y_true, y_pred):\n",
    "    return y_pred - y_true"
   ]
  },
  {
   "cell_type": "code",
   "execution_count": 32,
   "id": "3bd63646",
   "metadata": {},
   "outputs": [],
   "source": [
    "def train_two_layer(X, y, hidden_size=4, lr=0.1, epochs=1000):\n",
    "    input_size = X.shape[1]\n",
    "    output_size = 1\n",
    "\n",
    "    # Initialize weights\n",
    "    np.random.seed(0)\n",
    "    W1 = np.random.randn(input_size, hidden_size)\n",
    "    b1 = np.zeros((1, hidden_size))\n",
    "\n",
    "    W2 = np.random.randn(hidden_size, output_size)\n",
    "    b2 = np.zeros((1, output_size))\n",
    "\n",
    "    for epoch in range(epochs):\n",
    "        z1 = np.dot(X, W1) + b1\n",
    "        a1 = sigmoid(z1)\n",
    "\n",
    "        z2 = np.dot(a1, W2) + b2\n",
    "        a2 = sigmoid(z2)\n",
    "        loss = binary_cross_entropy(y, a2)\n",
    "        \n",
    "        dz2 = binary_cross_entropy_derivative(y, a2)  # (batch, 1)\n",
    "        dW2 = np.dot(a1.T, dz2)  # (hidden, 1)\n",
    "        db2 = np.sum(dz2, axis=0, keepdims=True)\n",
    "\n",
    "        # Hidden layer\n",
    "        da1 = np.dot(dz2, W2.T)  # (batch, hidden)\n",
    "        dz1 = da1 * sigmoid_derivative(a1)  # (batch, hidden)\n",
    "        dW1 = np.dot(X.T, dz1)  # (input, hidden)\n",
    "        db1 = np.sum(dz1, axis=0, keepdims=True)\n",
    "        \n",
    "        W2 -= lr * dW2\n",
    "        b2 -= lr * db2\n",
    "        W1 -= lr * dW1\n",
    "        b1 -= lr * db1\n",
    "\n",
    "        # Optional logging\n",
    "        if epoch % 100 == 0:\n",
    "            print(f\"Epoch {epoch}, Loss: {loss:.4f}\")\n",
    "\n",
    "    return W1, b1, W2, b2"
   ]
  },
  {
   "cell_type": "code",
   "execution_count": null,
   "id": "c87fe1c9",
   "metadata": {},
   "outputs": [],
   "source": []
  }
 ],
 "metadata": {
  "kernelspec": {
   "display_name": "dl",
   "language": "python",
   "name": "python3"
  },
  "language_info": {
   "codemirror_mode": {
    "name": "ipython",
    "version": 3
   },
   "file_extension": ".py",
   "mimetype": "text/x-python",
   "name": "python",
   "nbconvert_exporter": "python",
   "pygments_lexer": "ipython3",
   "version": "3.9.17"
  }
 },
 "nbformat": 4,
 "nbformat_minor": 5
}
